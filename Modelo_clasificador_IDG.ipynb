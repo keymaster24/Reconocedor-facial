{
 "cells": [
  {
   "cell_type": "code",
   "execution_count": null,
   "metadata": {},
   "outputs": [],
   "source": [
    "# Se cargan las librerías necesarias para utilizar la red convolucional \n",
    "import tensorflow\n",
    "import keras \n",
    "import matplotlib.pyplot as plt\n",
    "import cv2\n",
    "import numpy as np\n",
    "from tensorflow.keras import utils\n",
    "# from tensorflow.python.keras.preprocessing.image import ImageDataGenerator\n",
    "from keras import optimizers\n",
    "from keras import backend as K\n",
    "from keras.models import Sequential\n",
    "from keras.layers import Dropout, Flatten, Dense, Activation\n",
    "from keras.layers import Convolution2D, MaxPooling2D\n",
    "# from keras.layers import Conv2D\n",
    "from keras.layers.advanced_activations import LeakyReLU\n",
    "from sklearn.model_selection import train_test_split"
   ]
  },
  {
   "cell_type": "code",
   "execution_count": null,
   "metadata": {},
   "outputs": [],
   "source": [
    "# Se generan los path necesarios para cargar las imágenes de entrenamiento y validación \n",
    "import os\n",
    "path_entreno_2 = '/home/cristian/Escritorio/Reconocedor facial/Datos_desarrollo/Entrenamiento_2/'\n",
    "\n",
    "epochs = 5\n",
    "altura, ancho = 250, 250\n",
    "batch_size = 37\n",
    "filtro_conv_1 = 32\n",
    "filtro_conv_2 = 64\n",
    "tamano_fitro_1 = (5,5)\n",
    "tamano_filtro_2 = (3,3)\n",
    "tamano_pool = (2,2)\n",
    "clases = 2\n",
    "lr = 0.005 "
   ]
  },
  {
   "cell_type": "code",
   "execution_count": null,
   "metadata": {},
   "outputs": [],
   "source": [
    "# Se cargan los datos de entrenamiento y test\n",
    "images = []\n",
    "labels = []\n",
    "\n",
    "for path in range(len(os.listdir(path_entreno_2))):\n",
    "    directorio = path_entreno_2 + os.listdir(path_entreno_2)[path] + '/'\n",
    "    for image in range(len(os.listdir(directorio))):\n",
    "        imagen = cv2.imread(path_entreno_2 + os.listdir(path_entreno_2)[path] + '/' + os.listdir(directorio)[image], cv2.IMREAD_GRAYSCALE)\n",
    "        images.append(imagen)\n",
    "        labels.append(path)\n"
   ]
  },
  {
   "cell_type": "code",
   "execution_count": null,
   "metadata": {},
   "outputs": [],
   "source": [
    "# Se definen los conjuntos de entrenamiento y test\n",
    "images, labels = np.array(images), np.array(labels) \n",
    "labels = utils.to_categorical(labels, clases)\n",
    "\n",
    "images_train, images_test, y_train, y_test = train_test_split(images, labels, test_size = 0.2, random_state = 1, shuffle = True)"
   ]
  },
  {
   "cell_type": "code",
   "execution_count": null,
   "metadata": {},
   "outputs": [],
   "source": [
    "# Se utiliza la función ImageDataGenerator para poder entrenar mejor las imágenes\n",
    "images_data_gen_train = ImageDataGenerator(rescale = 1.0,\n",
    "                                           shear_range = 0.3,\n",
    "                                           zoom_range = 0.3,\n",
    "                                           horizontal_flip = True,\n",
    "                                           vertical_flip = True,\n",
    "                                           rotation_range = 20)\n",
    "\n",
    "\n",
    "images_data_gen_test = ImageDataGenerator(rescale = 1.0 / 255)\n",
    "\n",
    "images_data_gen_train.fit(images_train)\n",
    "images_data_gen_test.fit(images_test)"
   ]
  },
  {
   "cell_type": "code",
   "execution_count": null,
   "metadata": {},
   "outputs": [],
   "source": [
    "# Se genera el modelo\n",
    "modelo = Sequential()\n",
    "modelo.add(Convolution2D(filters = filtro_conv_1,\n",
    "    batch_size = batch_size,\n",
    "    kernel_size = tamano_fitro_1,\n",
    "    padding = 'same',\n",
    "    input_shape = (altura, ancho, 3),\n",
    "    activation = 'relu'))\n",
    "modelo.add(LeakyReLU(alpha = 0.1))\n",
    "modelo.add(MaxPooling2D(pool_size = tamano_pool))\n",
    "modelo.add(Dropout(0.2))\n",
    "modelo.add(Convolution2D(filters= filtro_conv_2,\n",
    "                  kernel_size = tamano_filtro_2,\n",
    "                  activation = 'relu'))\n",
    "modelo.add(MaxPooling2D(pool_size = tamano_pool))\n",
    "modelo.add(Dropout(0.2))\n",
    "modelo.add(Flatten())\n",
    "modelo.add(Dense(128, activation = 'relu'))\n",
    "modelo.add(Dense(2, activation = 'softmax'))\n",
    "modelo.compile(loss = keras.losses.categorical_crossentropy,\n",
    "               optimizer = optimizers.Adagrad(lr = lr, decay = lr/100) ,\n",
    "               metrics = ['accuracy'])\n",
    "modelo.summary()"
   ]
  },
  {
   "cell_type": "code",
   "execution_count": null,
   "metadata": {},
   "outputs": [],
   "source": [
    "# Se entrena el modelo \n",
    "history = modelo.fit_generator(images_data_gen_train.flow(images_train, y_train, batch_size = batch_size),\n",
    "                     epochs=epochs, validation_data = images_data_gen_test.flow(images_test, \n",
    "                     y_test, batch_size = batch_size), shuffle = True) \n"
   ]
  },
  {
   "cell_type": "code",
   "execution_count": null,
   "metadata": {},
   "outputs": [],
   "source": [
    "test_evaluate = modelo.evaluate(images_data_gen_test.flow(images_test, y_test, batch_size = batch_size), verbose = 1)\n",
    "test_evaluate[0]\n",
    "test_evaluate[1]"
   ]
  }
 ],
 "metadata": {
  "kernelspec": {
   "display_name": "Python 3",
   "language": "python",
   "name": "python3"
  },
  "language_info": {
   "codemirror_mode": {
    "name": "ipython",
    "version": 3
   },
   "file_extension": ".py",
   "mimetype": "text/x-python",
   "name": "python",
   "nbconvert_exporter": "python",
   "pygments_lexer": "ipython3",
   "version": "3.7.6"
  }
 },
 "nbformat": 4,
 "nbformat_minor": 4
}
